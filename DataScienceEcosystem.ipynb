{
 "cells": [
  {
   "cell_type": "markdown",
   "id": "f964f82d-8802-4b3b-bd27-ac38092a0770",
   "metadata": {},
   "source": [
    "# Data Science Tools and Ecosystem"
   ]
  },
  {
   "cell_type": "markdown",
   "id": "6626a423-49ce-46e6-84cb-760e765043ef",
   "metadata": {},
   "source": [
    "# In this notebook, Data Science Tools and Ecosystem are summarized."
   ]
  },
  {
   "cell_type": "markdown",
   "id": "e4d077d2-3c0a-4a69-bf9c-a19f75cf24cd",
   "metadata": {},
   "source": [
    "# Some of the popular languages that Data Scientists use are:\n",
    "1. Python\n",
    "2. R\n",
    "3. JAVA"
   ]
  },
  {
   "cell_type": "markdown",
   "id": "4233fb3d-e830-4cb7-bd8f-3317c7f6883a",
   "metadata": {},
   "source": [
    "# Some of the commonly used libraries used by Data Scientists include:\n",
    "- Pandas\n",
    "- Numpy\n",
    "- Matplotlib\n",
    "- Seaborn\n",
    "- Sci-Kit learn\n",
    "- Keras\n",
    "- Tensor Flow\n",
    "- PyTorch"
   ]
  },
  {
   "cell_type": "markdown",
   "id": "dd73fe6b-5739-4f56-89bd-548715ab6848",
   "metadata": {},
   "source": [
    "# Data Science Tools\n",
    "|Data Science Tools|\n",
    "|------------------|\n",
    "|Jupyter Notebook|\n",
    "|RStudio|\n",
    "|Apache Flink|\n"
   ]
  },
  {
   "cell_type": "markdown",
   "id": "ddcc9a2f-4a5d-4d6d-aa27-db7b0c99980a",
   "metadata": {},
   "source": [
    "### Below are a few examples of evaluating arithmetic expressions in Python"
   ]
  },
  {
   "cell_type": "code",
   "execution_count": 1,
   "id": "0e783c10-8ca5-404d-9ea4-45e0b9acd506",
   "metadata": {
    "tags": []
   },
   "outputs": [
    {
     "data": {
      "text/plain": [
       "17"
      ]
     },
     "execution_count": 1,
     "metadata": {},
     "output_type": "execute_result"
    }
   ],
   "source": [
    "# This a simple arithmetic expression to mutiply then add integers\n",
    "(3*4)+5"
   ]
  },
  {
   "cell_type": "code",
   "execution_count": 2,
   "id": "7bef7ab1-27b3-49c1-850b-93738c1bb036",
   "metadata": {
    "tags": []
   },
   "outputs": [
    {
     "data": {
      "text/plain": [
       "3.3333333333333335"
      ]
     },
     "execution_count": 2,
     "metadata": {},
     "output_type": "execute_result"
    }
   ],
   "source": [
    "# This will convert 200 minutes to hours by diving by 60\n",
    "200/60"
   ]
  },
  {
   "cell_type": "markdown",
   "id": "e4e89098-b3da-422f-a78a-a7e153b7b32f",
   "metadata": {
    "tags": []
   },
   "source": [
    "# **Objectives:**\n",
    "- Python\n",
    "- R\n",
    "- JAVA\n",
    "- Julia\n",
    "- SQL"
   ]
  },
  {
   "cell_type": "markdown",
   "id": "fa181a69-ce14-4644-9d4f-45201800be9c",
   "metadata": {},
   "source": [
    "## Author\n",
    "Amit Kumar Kushwaha"
   ]
  },
  {
   "cell_type": "code",
   "execution_count": null,
   "id": "ce489689-39bf-4dce-b56d-90a1ebf11768",
   "metadata": {},
   "outputs": [],
   "source": []
  }
 ],
 "metadata": {
  "kernelspec": {
   "display_name": "Python 3 (ipykernel)",
   "language": "python",
   "name": "python3"
  },
  "language_info": {
   "codemirror_mode": {
    "name": "ipython",
    "version": 3
   },
   "file_extension": ".py",
   "mimetype": "text/x-python",
   "name": "python",
   "nbconvert_exporter": "python",
   "pygments_lexer": "ipython3",
   "version": "3.11.3"
  }
 },
 "nbformat": 4,
 "nbformat_minor": 5
}
